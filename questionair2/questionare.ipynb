{
 "cells": [
  {
   "cell_type": "code",
   "execution_count": 15,
   "metadata": {},
   "outputs": [
    {
     "data": {
      "text/plain": [
       "71.95121951219512"
      ]
     },
     "execution_count": 15,
     "metadata": {},
     "output_type": "execute_result"
    }
   ],
   "source": [
    "import pandas as pd\n",
    "import numpy as np\n",
    "\n",
    "\n",
    "# encodings_to_try = [\"utf-8\", \"latin-1\", \"ISO-8859-1\", \"cp1252\"]\n",
    "files = [\n",
    "    \"./sampleQuestionFB_Angel - sampleQuestionFB.csv\",\n",
    "    \"./sampleQuestionFB_Ruben - sampleQuestionFB.csv\",\n",
    "    \"./sampleQuestionFB_Amir - sampleQuestionFB.csv\",\n",
    "]\n",
    "\n",
    "\n",
    "dflst = []\n",
    "for file in files:\n",
    "    no1 = pd.read_csv(file, encoding=\"utf-8\")\n",
    "    no1.iloc[:, 0] = (\n",
    "        no1.iloc[:, 0]\n",
    "        .dropna()\n",
    "        .str.encode(\"ascii\", \"ignore\")\n",
    "        .str.decode(\"ascii\")\n",
    "        .str.strip()\n",
    "        .str.lower()\n",
    "    )\n",
    "    dflst.append(no1)\n",
    "\n",
    "\n",
    "dfQ = pd.concat(dflst).replace(2, 0).replace(3, 0).drop(\"No category\", axis=1)\n",
    "dfsum = dfQ.fillna(0).groupby(\"interest\").sum().reset_index()\n",
    "dfsum[\"validLst\"] = dfsum.apply(\n",
    "    lambda x: [i for i in dfQ.columns if (x[i] == 2) or (x[i] == 3)], axis=1\n",
    ")\n",
    "dfsum[\"validLst\"] = dfsum[\"validLst\"].apply(lambda x: x if len(x) > 0 else np.nan)\n",
    "dfsum2 = dfsum[[\"interest\", \"validLst\"]].dropna()\n",
    "dfIg = pd.read_csv(\"sampleIg.csv\", encoding=\"utf-8\")[[\"IgName\", \"IgLevel2\"]]\n",
    "dfIg[\"IgName\"] = (\n",
    "    dfIg[\"IgName\"]\n",
    "    .dropna()\n",
    "    .str.encode(\"ascii\", \"ignore\")\n",
    "    .str.decode(\"ascii\")\n",
    "    .str.strip()\n",
    "    .str.lower()\n",
    ")\n",
    "dfagg = dfsum2.merge(dfIg, left_on=\"interest\", right_on=\"IgName\")\n",
    "dfagg[\"validCat\"] = dfagg.apply(lambda x: x[\"IgLevel2\"] in x[\"validLst\"], axis=1)\n",
    "dfagg[dfagg[\"validCat\"]].shape[0] * 100 / dfagg.shape[0]"
   ]
  },
  {
   "cell_type": "code",
   "execution_count": 16,
   "metadata": {},
   "outputs": [
    {
     "data": {
      "text/plain": [
       "82"
      ]
     },
     "execution_count": 16,
     "metadata": {},
     "output_type": "execute_result"
    }
   ],
   "source": [
    "dfsum2.shape[0]"
   ]
  },
  {
   "cell_type": "code",
   "execution_count": 17,
   "metadata": {},
   "outputs": [
    {
     "data": {
      "text/plain": [
       "79.01234567901234"
      ]
     },
     "execution_count": 17,
     "metadata": {},
     "output_type": "execute_result"
    }
   ],
   "source": [
    "files = [\n",
    "    \"./sampleQuestionIAB_Angel - sampleQuestionIAB.csv\",\n",
    "    \"./sampleQuestionIAB_Ruben - sampleQuestionIAB.csv\",\n",
    "    \"./sampleQuestionIAB_Amir - sampleQuestionIAB.csv\",\n",
    "]\n",
    "\n",
    "\n",
    "dflst = []\n",
    "for file in files:\n",
    "    no1 = pd.read_csv(file, encoding=\"utf-8\")\n",
    "    no1.iloc[:, 0] = (\n",
    "        no1.iloc[:, 0]\n",
    "        .dropna()\n",
    "        .str.encode(\"ascii\", \"ignore\")\n",
    "        .str.decode(\"ascii\")\n",
    "        .str.strip()\n",
    "        .str.lower()\n",
    "    )\n",
    "    dflst.append(no1)\n",
    "\n",
    "\n",
    "dfQ = pd.concat(dflst).replace(2, 0).replace(3, 0).drop(\"No category\", axis=1)\n",
    "dfsum = dfQ.fillna(0).groupby(\"interest\").sum().reset_index()\n",
    "dfsum[\"validLst\"] = dfsum.apply(\n",
    "    lambda x: [i for i in dfQ.columns if (x[i] == 2) or (x[i] == 3)], axis=1\n",
    ")\n",
    "dfsum[\"validLst\"] = dfsum[\"validLst\"].apply(lambda x: x if len(x) > 0 else np.nan)\n",
    "dfsum2 = dfsum[[\"interest\", \"validLst\"]].dropna()\n",
    "dfIg = pd.read_csv(\"sampleGPT.csv\", encoding=\"utf-8\")[[\"interest\", \"iabCat\"]]\n",
    "\n",
    "dfIg[\"interest\"] = (\n",
    "    dfIg[\"interest\"]\n",
    "    .dropna()\n",
    "    .str.encode(\"ascii\", \"ignore\")\n",
    "    .str.decode(\"ascii\")\n",
    "    .str.strip()\n",
    "    .str.lower()\n",
    ")\n",
    "dfagg = dfsum2.merge(dfIg, left_on=\"interest\", right_on=\"interest\")\n",
    "dfagg[\"validCat\"] = dfagg.apply(lambda x: x[\"iabCat\"] in x[\"validLst\"], axis=1)\n",
    "dfagg[dfagg[\"validCat\"]].shape[0] * 100 / dfagg.shape[0]"
   ]
  },
  {
   "cell_type": "code",
   "execution_count": 18,
   "metadata": {},
   "outputs": [
    {
     "data": {
      "text/plain": [
       "80"
      ]
     },
     "execution_count": 18,
     "metadata": {},
     "output_type": "execute_result"
    }
   ],
   "source": [
    "dfsum2.shape[0]"
   ]
  },
  {
   "cell_type": "code",
   "execution_count": 45,
   "metadata": {},
   "outputs": [
    {
     "data": {
      "text/html": [
       "<div>\n",
       "<style scoped>\n",
       "    .dataframe tbody tr th:only-of-type {\n",
       "        vertical-align: middle;\n",
       "    }\n",
       "\n",
       "    .dataframe tbody tr th {\n",
       "        vertical-align: top;\n",
       "    }\n",
       "\n",
       "    .dataframe thead th {\n",
       "        text-align: right;\n",
       "    }\n",
       "</style>\n",
       "<table border=\"1\" class=\"dataframe\">\n",
       "  <thead>\n",
       "    <tr style=\"text-align: right;\">\n",
       "      <th></th>\n",
       "      <th>Topic</th>\n",
       "      <th>Food &amp; Drink</th>\n",
       "      <th>Automotive</th>\n",
       "      <th>No category</th>\n",
       "      <th>validResp</th>\n",
       "    </tr>\n",
       "  </thead>\n",
       "  <tbody>\n",
       "    <tr>\n",
       "      <th>0</th>\n",
       "      <td>abarth</td>\n",
       "      <td>0</td>\n",
       "      <td>3.0</td>\n",
       "      <td>0</td>\n",
       "      <td>True</td>\n",
       "    </tr>\n",
       "    <tr>\n",
       "      <th>1</th>\n",
       "      <td>acura</td>\n",
       "      <td>0</td>\n",
       "      <td>3.0</td>\n",
       "      <td>0</td>\n",
       "      <td>True</td>\n",
       "    </tr>\n",
       "    <tr>\n",
       "      <th>2</th>\n",
       "      <td>airbag</td>\n",
       "      <td>0</td>\n",
       "      <td>3.0</td>\n",
       "      <td>0</td>\n",
       "      <td>True</td>\n",
       "    </tr>\n",
       "    <tr>\n",
       "      <th>3</th>\n",
       "      <td>airbus a380</td>\n",
       "      <td>0</td>\n",
       "      <td>3.0</td>\n",
       "      <td>0</td>\n",
       "      <td>True</td>\n",
       "    </tr>\n",
       "    <tr>\n",
       "      <th>4</th>\n",
       "      <td>alfajor</td>\n",
       "      <td>3.0</td>\n",
       "      <td>0</td>\n",
       "      <td>0</td>\n",
       "      <td>True</td>\n",
       "    </tr>\n",
       "    <tr>\n",
       "      <th>...</th>\n",
       "      <td>...</td>\n",
       "      <td>...</td>\n",
       "      <td>...</td>\n",
       "      <td>...</td>\n",
       "      <td>...</td>\n",
       "    </tr>\n",
       "    <tr>\n",
       "      <th>495</th>\n",
       "      <td>water</td>\n",
       "      <td>1</td>\n",
       "      <td>0</td>\n",
       "      <td>NaN</td>\n",
       "      <td>NaN</td>\n",
       "    </tr>\n",
       "    <tr>\n",
       "      <th>496</th>\n",
       "      <td>smart (automobile)</td>\n",
       "      <td>0</td>\n",
       "      <td>1</td>\n",
       "      <td>NaN</td>\n",
       "      <td>NaN</td>\n",
       "    </tr>\n",
       "    <tr>\n",
       "      <th>497</th>\n",
       "      <td>toyota rav4</td>\n",
       "      <td>0</td>\n",
       "      <td>1</td>\n",
       "      <td>NaN</td>\n",
       "      <td>NaN</td>\n",
       "    </tr>\n",
       "    <tr>\n",
       "      <th>498</th>\n",
       "      <td>toyota tundra</td>\n",
       "      <td>0</td>\n",
       "      <td>1</td>\n",
       "      <td>NaN</td>\n",
       "      <td>NaN</td>\n",
       "    </tr>\n",
       "    <tr>\n",
       "      <th>499</th>\n",
       "      <td>cadillac</td>\n",
       "      <td>0</td>\n",
       "      <td>1</td>\n",
       "      <td>NaN</td>\n",
       "      <td>NaN</td>\n",
       "    </tr>\n",
       "  </tbody>\n",
       "</table>\n",
       "<p>949 rows × 5 columns</p>\n",
       "</div>"
      ],
      "text/plain": [
       "                  Topic Food & Drink Automotive No category validResp\n",
       "0                abarth            0        3.0           0      True\n",
       "1                 acura            0        3.0           0      True\n",
       "2                airbag            0        3.0           0      True\n",
       "3           airbus a380            0        3.0           0      True\n",
       "4               alfajor          3.0          0           0      True\n",
       "..                  ...          ...        ...         ...       ...\n",
       "495               water            1          0         NaN       NaN\n",
       "496  smart (automobile)            0          1         NaN       NaN\n",
       "497         toyota rav4            0          1         NaN       NaN\n",
       "498       toyota tundra            0          1         NaN       NaN\n",
       "499            cadillac            0          1         NaN       NaN\n",
       "\n",
       "[949 rows x 5 columns]"
      ]
     },
     "execution_count": 45,
     "metadata": {},
     "output_type": "execute_result"
    }
   ],
   "source": [
    "df_gpt = pd.read_csv(\"./sampleGPT.csv\")\n",
    "gpt_df2 = (\n",
    "    pd.get_dummies(df_gpt, columns=[\"iabCat\"], prefix=\"\")\n",
    "    .replace(True, 1)\n",
    "    .replace(False, 0)\n",
    ")\n",
    "gpt_df2.columns = gpt_df2.columns.str.replace(\"_\", \"\")\n",
    "gpt_df2.columns = gpt_df2.columns.str.replace(\"interest\", \"Topic\")\n",
    "gpt_df2.iloc[:, 0] = (\n",
    "    gpt_df2.iloc[:, 0]\n",
    "    .dropna()\n",
    "    .str.encode(\"ascii\", \"ignore\")\n",
    "    .str.decode(\"ascii\")\n",
    "    .str.strip()\n",
    "    .str.lower()\n",
    ")\n",
    "groundT = pd.concat([res, gpt_df2])\n",
    "groundT"
   ]
  },
  {
   "cell_type": "code",
   "execution_count": 46,
   "metadata": {},
   "outputs": [
    {
     "data": {
      "text/html": [
       "<div>\n",
       "<style scoped>\n",
       "    .dataframe tbody tr th:only-of-type {\n",
       "        vertical-align: middle;\n",
       "    }\n",
       "\n",
       "    .dataframe tbody tr th {\n",
       "        vertical-align: top;\n",
       "    }\n",
       "\n",
       "    .dataframe thead th {\n",
       "        text-align: right;\n",
       "    }\n",
       "</style>\n",
       "<table border=\"1\" class=\"dataframe\">\n",
       "  <thead>\n",
       "    <tr style=\"text-align: right;\">\n",
       "      <th></th>\n",
       "      <th>Food &amp; Drink</th>\n",
       "      <th>Automotive</th>\n",
       "      <th>No category</th>\n",
       "      <th>validResp</th>\n",
       "      <th>ValidPrediction</th>\n",
       "    </tr>\n",
       "    <tr>\n",
       "      <th>Topic</th>\n",
       "      <th></th>\n",
       "      <th></th>\n",
       "      <th></th>\n",
       "      <th></th>\n",
       "      <th></th>\n",
       "    </tr>\n",
       "  </thead>\n",
       "  <tbody>\n",
       "    <tr>\n",
       "      <th>3d printing</th>\n",
       "      <td>0</td>\n",
       "      <td>1</td>\n",
       "      <td>0</td>\n",
       "      <td>0</td>\n",
       "      <td>False</td>\n",
       "    </tr>\n",
       "    <tr>\n",
       "      <th>abarth</th>\n",
       "      <td>0</td>\n",
       "      <td>4.0</td>\n",
       "      <td>0</td>\n",
       "      <td>True</td>\n",
       "      <td>True</td>\n",
       "    </tr>\n",
       "    <tr>\n",
       "      <th>abeokuta</th>\n",
       "      <td>0</td>\n",
       "      <td>1</td>\n",
       "      <td>0</td>\n",
       "      <td>0</td>\n",
       "      <td>False</td>\n",
       "    </tr>\n",
       "    <tr>\n",
       "      <th>acura</th>\n",
       "      <td>0</td>\n",
       "      <td>4.0</td>\n",
       "      <td>0</td>\n",
       "      <td>True</td>\n",
       "      <td>True</td>\n",
       "    </tr>\n",
       "    <tr>\n",
       "      <th>airbag</th>\n",
       "      <td>0</td>\n",
       "      <td>4.0</td>\n",
       "      <td>0</td>\n",
       "      <td>True</td>\n",
       "      <td>True</td>\n",
       "    </tr>\n",
       "    <tr>\n",
       "      <th>...</th>\n",
       "      <td>...</td>\n",
       "      <td>...</td>\n",
       "      <td>...</td>\n",
       "      <td>...</td>\n",
       "      <td>...</td>\n",
       "    </tr>\n",
       "    <tr>\n",
       "      <th>whisky</th>\n",
       "      <td>4.0</td>\n",
       "      <td>0</td>\n",
       "      <td>0</td>\n",
       "      <td>True</td>\n",
       "      <td>True</td>\n",
       "    </tr>\n",
       "    <tr>\n",
       "      <th>white chocolate</th>\n",
       "      <td>4.0</td>\n",
       "      <td>0</td>\n",
       "      <td>0</td>\n",
       "      <td>True</td>\n",
       "      <td>True</td>\n",
       "    </tr>\n",
       "    <tr>\n",
       "      <th>wine tasting</th>\n",
       "      <td>4.0</td>\n",
       "      <td>0</td>\n",
       "      <td>0</td>\n",
       "      <td>True</td>\n",
       "      <td>True</td>\n",
       "    </tr>\n",
       "    <tr>\n",
       "      <th>yeast</th>\n",
       "      <td>4.0</td>\n",
       "      <td>0</td>\n",
       "      <td>0</td>\n",
       "      <td>True</td>\n",
       "      <td>True</td>\n",
       "    </tr>\n",
       "    <tr>\n",
       "      <th>zomato</th>\n",
       "      <td>4.0</td>\n",
       "      <td>0</td>\n",
       "      <td>0</td>\n",
       "      <td>True</td>\n",
       "      <td>True</td>\n",
       "    </tr>\n",
       "  </tbody>\n",
       "</table>\n",
       "<p>498 rows × 5 columns</p>\n",
       "</div>"
      ],
      "text/plain": [
       "                Food & Drink Automotive No category validResp  ValidPrediction\n",
       "Topic                                                                         \n",
       "3d printing                0          1           0         0            False\n",
       "abarth                     0        4.0           0      True             True\n",
       "abeokuta                   0          1           0         0            False\n",
       "acura                      0        4.0           0      True             True\n",
       "airbag                     0        4.0           0      True             True\n",
       "...                      ...        ...         ...       ...              ...\n",
       "whisky                   4.0          0           0      True             True\n",
       "white chocolate          4.0          0           0      True             True\n",
       "wine tasting             4.0          0           0      True             True\n",
       "yeast                    4.0          0           0      True             True\n",
       "zomato                   4.0          0           0      True             True\n",
       "\n",
       "[498 rows x 5 columns]"
      ]
     },
     "execution_count": 46,
     "metadata": {},
     "output_type": "execute_result"
    }
   ],
   "source": [
    "groundT2 = groundT.groupby(\"Topic\").sum()\n",
    "groundT2[\"ValidPrediction\"] = groundT2.apply(\n",
    "    lambda x: x[\"Automotive\"] == 4 or x[\"Food & Drink\"] == 4, axis=1\n",
    ")\n",
    "groundT2\n",
    "# groundT[groundT[\"No category\"]==3]"
   ]
  },
  {
   "cell_type": "code",
   "execution_count": 50,
   "metadata": {},
   "outputs": [
    {
     "data": {
      "text/plain": [
       "449"
      ]
     },
     "execution_count": 50,
     "metadata": {},
     "output_type": "execute_result"
    }
   ],
   "source": [
    "res.shape[0]"
   ]
  },
  {
   "cell_type": "code",
   "execution_count": 48,
   "metadata": {},
   "outputs": [
    {
     "data": {
      "text/plain": [
       "441"
      ]
     },
     "execution_count": 48,
     "metadata": {},
     "output_type": "execute_result"
    }
   ],
   "source": [
    "groundT2[groundT2[\"ValidPrediction\"]].shape[0]"
   ]
  },
  {
   "cell_type": "code",
   "execution_count": 52,
   "metadata": {},
   "outputs": [
    {
     "data": {
      "text/plain": [
       "0.9821826280623608"
      ]
     },
     "execution_count": 52,
     "metadata": {},
     "output_type": "execute_result"
    }
   ],
   "source": [
    "groundT2[groundT2[\"ValidPrediction\"]].shape[0] / res.shape[0]"
   ]
  },
  {
   "cell_type": "code",
   "execution_count": null,
   "metadata": {},
   "outputs": [],
   "source": []
  }
 ],
 "metadata": {
  "kernelspec": {
   "display_name": "Python 3",
   "language": "python",
   "name": "python3"
  },
  "language_info": {
   "codemirror_mode": {
    "name": "ipython",
    "version": 3
   },
   "file_extension": ".py",
   "mimetype": "text/x-python",
   "name": "python",
   "nbconvert_exporter": "python",
   "pygments_lexer": "ipython3",
   "version": "3.10.12"
  }
 },
 "nbformat": 4,
 "nbformat_minor": 2
}
